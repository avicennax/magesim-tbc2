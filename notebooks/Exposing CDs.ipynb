{
 "cells": [
  {
   "cell_type": "markdown",
   "id": "df700bdb",
   "metadata": {},
   "source": [
    "## TODO\n",
    "\n",
    "- Hash out a strategy for exposing cooldowns for use and work through the caveats.\n",
    "- Determine what state we will likely need to expose for agent to learn to use cooldowns effectively.\n",
    "\n",
    "## Log\n",
    "\n",
    "So we could in theory execute non-GCD, instanteous actions accordingly by yielding control back to the agent immediately after performing those actions and otherwise.\n",
    "\n",
    "**Idea**: user passes in an action and the PolicyHandler class maps it to a spell or CD and pushes a spell or calls the appropriate CD handler. We then identify key user CDs / active trinket decision points and wrap\n",
    "in a yield check block so those actions aren't called unless yield is inactive.\n",
    "\n",
    "### Questions\n",
    "- How do we implement action masking / prevent taking invalid actions? Expose state that makes that readily discernable.\n",
    "- How do we have handle rewards for invalid or useless actions?"
   ]
  },
  {
   "cell_type": "code",
   "execution_count": null,
   "id": "1227ff00",
   "metadata": {},
   "outputs": [],
   "source": [
    "\n"
   ]
  }
 ],
 "metadata": {
  "kernelspec": {
   "display_name": "Python 3",
   "language": "python",
   "name": "python3"
  },
  "language_info": {
   "codemirror_mode": {
    "name": "ipython",
    "version": 3
   },
   "file_extension": ".py",
   "mimetype": "text/x-python",
   "name": "python",
   "nbconvert_exporter": "python",
   "pygments_lexer": "ipython3",
   "version": "3.6.13"
  }
 },
 "nbformat": 4,
 "nbformat_minor": 5
}
